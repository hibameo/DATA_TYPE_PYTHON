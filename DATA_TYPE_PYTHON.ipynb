{
  "nbformat": 4,
  "nbformat_minor": 0,
  "metadata": {
    "colab": {
      "provenance": [],
      "authorship_tag": "ABX9TyPcCTFdlpWf2ROvZ5aey4Sl",
      "include_colab_link": true
    },
    "kernelspec": {
      "name": "python3",
      "display_name": "Python 3"
    },
    "language_info": {
      "name": "python"
    }
  },
  "cells": [
    {
      "cell_type": "markdown",
      "metadata": {
        "id": "view-in-github",
        "colab_type": "text"
      },
      "source": [
        "<a href=\"https://colab.research.google.com/github/hibameo/DATA_TYPE_PYTHON/blob/main/DATA_TYPE_PYTHON.ipynb\" target=\"_parent\"><img src=\"https://colab.research.google.com/assets/colab-badge.svg\" alt=\"Open In Colab\"/></a>"
      ]
    },
    {
      "cell_type": "markdown",
      "source": [
        "🟡 1. Integer (int)"
      ],
      "metadata": {
        "id": "0UkuqhJWw79r"
      }
    },
    {
      "cell_type": "markdown",
      "source": [
        "Yeh whole numbers hote hain, bina decimal ke."
      ],
      "metadata": {
        "id": "oZUupfMhxAeX"
      }
    },
    {
      "cell_type": "code",
      "execution_count": 1,
      "metadata": {
        "id": "J-YhOSy5wyDM"
      },
      "outputs": [],
      "source": [
        "age = 21\n"
      ]
    },
    {
      "cell_type": "markdown",
      "source": [
        "🔵 2. Float (float)"
      ],
      "metadata": {
        "id": "aslMW3MlxLCp"
      }
    },
    {
      "cell_type": "markdown",
      "source": [
        "Yeh decimal numbers hote hain."
      ],
      "metadata": {
        "id": "vHEiAZ4YxOAu"
      }
    },
    {
      "cell_type": "code",
      "source": [
        "price = 99.99\n"
      ],
      "metadata": {
        "id": "7SWDsBfMxQDh"
      },
      "execution_count": 2,
      "outputs": []
    },
    {
      "cell_type": "markdown",
      "source": [
        "🟢 3. String (str)"
      ],
      "metadata": {
        "id": "yD7QSFnvxUJ7"
      }
    },
    {
      "cell_type": "markdown",
      "source": [
        "Yeh text/letters/words hote hain. Inko quotes mein likhte hain (' ' ya \" \")."
      ],
      "metadata": {
        "id": "k1mlfEkwxZdb"
      }
    },
    {
      "cell_type": "code",
      "source": [
        "name = \"Hiba\"\n"
      ],
      "metadata": {
        "id": "4uE575_Lxb_3"
      },
      "execution_count": 3,
      "outputs": []
    },
    {
      "cell_type": "markdown",
      "source": [
        "🟣 4. Boolean (bool)"
      ],
      "metadata": {
        "id": "LA_cXcVAxh9k"
      }
    },
    {
      "cell_type": "markdown",
      "source": [
        "Sirf do hi values hoti hain: True ya False\n",
        "Used in conditions/logics."
      ],
      "metadata": {
        "id": "uCmZXyCJxl_X"
      }
    },
    {
      "cell_type": "code",
      "source": [
        "is_student = True\n"
      ],
      "metadata": {
        "id": "zOyxRWJcxoKT"
      },
      "execution_count": 4,
      "outputs": []
    },
    {
      "cell_type": "markdown",
      "source": [
        "🔴 5. List (list)"
      ],
      "metadata": {
        "id": "XNBRWwg2xyC-"
      }
    },
    {
      "cell_type": "markdown",
      "source": [
        "Multiple items ko ek variable mein rakhne ke liye use hoti hai. Square brackets [ ] use hoti hain."
      ],
      "metadata": {
        "id": "OywyRew9x00z"
      }
    },
    {
      "cell_type": "code",
      "source": [
        "fruits = [\"apple\", \"banana\", \"mango\"]\n"
      ],
      "metadata": {
        "id": "2ZVi1U24x5eL"
      },
      "execution_count": 5,
      "outputs": []
    },
    {
      "cell_type": "markdown",
      "source": [
        "🟤 6. Tuple (tuple)"
      ],
      "metadata": {
        "id": "W3kzwUPbx-Em"
      }
    },
    {
      "cell_type": "markdown",
      "source": [
        "List jaisi hoti hai, lekin change nahi kar sakte (immutable). Round brackets ( ) use hoti hain."
      ],
      "metadata": {
        "id": "HOvsC8VOyAtV"
      }
    },
    {
      "cell_type": "code",
      "source": [
        "colors = (\"red\", \"green\", \"blue\")\n"
      ],
      "metadata": {
        "id": "9sAYCHQ8yGEI"
      },
      "execution_count": 6,
      "outputs": []
    },
    {
      "cell_type": "markdown",
      "source": [
        "⚪ 7. Dictionary (dict)"
      ],
      "metadata": {
        "id": "v3zSx3u0yKXa"
      }
    },
    {
      "cell_type": "markdown",
      "source": [
        "Key-value pair mein data store hota hai. Curly braces { } use hoti hain."
      ],
      "metadata": {
        "id": "n7gRCwl7yNay"
      }
    },
    {
      "cell_type": "code",
      "source": [
        "student = {\n",
        "    \"name\": \"Hiba\",\n",
        "    \"age\": 21,\n",
        "    \"is_student\": True\n",
        "}\n"
      ],
      "metadata": {
        "id": "5oFxQp9ayQad"
      },
      "execution_count": 7,
      "outputs": []
    },
    {
      "cell_type": "markdown",
      "source": [
        "🟡 1. Numeric Types (Number wali values)"
      ],
      "metadata": {
        "id": "U3wMfi4pyYPE"
      }
    },
    {
      "cell_type": "markdown",
      "source": [
        "✅ int – Whole numbers (integers)\n"
      ],
      "metadata": {
        "id": "7-Rdw6qEygIE"
      }
    },
    {
      "cell_type": "code",
      "source": [
        "a = 10\n"
      ],
      "metadata": {
        "id": "BbQQjudGyh9n"
      },
      "execution_count": 8,
      "outputs": []
    },
    {
      "cell_type": "markdown",
      "source": [
        "✅ float – Decimal numbers"
      ],
      "metadata": {
        "id": "ZS6K7-L7ymve"
      }
    },
    {
      "cell_type": "code",
      "source": [
        "b = 5.5\n"
      ],
      "metadata": {
        "id": "ga6kYi0qypHj"
      },
      "execution_count": 9,
      "outputs": []
    },
    {
      "cell_type": "markdown",
      "source": [
        "✅ complex – Complex numbers (math mein use hota hai)"
      ],
      "metadata": {
        "id": "0S-GfSbeytoH"
      }
    },
    {
      "cell_type": "code",
      "source": [
        "c = 3 + 2j    # yahan 3 = real part, 2j = imaginary part\n"
      ],
      "metadata": {
        "id": "m1xTJCNwyvoY"
      },
      "execution_count": 10,
      "outputs": []
    },
    {
      "cell_type": "markdown",
      "source": [
        "🟣 2. Sequence Types (Order wali cheezein, jinki position hoti hai)"
      ],
      "metadata": {
        "id": "s5h1UyMSy0pl"
      }
    },
    {
      "cell_type": "markdown",
      "source": [
        "✅ str – String (text)\n"
      ],
      "metadata": {
        "id": "hIMnT230y4n0"
      }
    },
    {
      "cell_type": "code",
      "source": [
        "name = \"Hiba\"\n"
      ],
      "metadata": {
        "id": "-3HS4QMvy9bF"
      },
      "execution_count": 11,
      "outputs": []
    },
    {
      "cell_type": "markdown",
      "source": [
        "✅ list – Changeable ordered collection"
      ],
      "metadata": {
        "id": "WxW_tMl3zApR"
      }
    },
    {
      "cell_type": "code",
      "source": [
        "fruits = [\"apple\", \"banana\", \"mango\"]\n"
      ],
      "metadata": {
        "id": "LP_oISmhzCwB"
      },
      "execution_count": 12,
      "outputs": []
    },
    {
      "cell_type": "markdown",
      "source": [
        "✅ tuple – Non-changeable ordered collection"
      ],
      "metadata": {
        "id": "4VaL8CDzzG01"
      }
    },
    {
      "cell_type": "code",
      "source": [
        "colors = (\"red\", \"green\", \"blue\")\n"
      ],
      "metadata": {
        "id": "1l5JNoWozIws"
      },
      "execution_count": 13,
      "outputs": []
    },
    {
      "cell_type": "markdown",
      "source": [
        "🔶 3. Dictionary (dict) – Key-value pairs"
      ],
      "metadata": {
        "id": "OMXlTBO6zMs9"
      }
    },
    {
      "cell_type": "markdown",
      "source": [
        "Har value ka ek key hota hai."
      ],
      "metadata": {
        "id": "RumEzEUMzP00"
      }
    },
    {
      "cell_type": "code",
      "source": [
        "student = {\n",
        "    \"name\": \"Hiba\",\n",
        "    \"age\": 21,\n",
        "    \"grade\": \"A\"\n",
        "}\n"
      ],
      "metadata": {
        "id": "TAqwStl2zR3I"
      },
      "execution_count": 14,
      "outputs": []
    },
    {
      "cell_type": "markdown",
      "source": [
        "🟩 4. Set (set) – Unique unordered items"
      ],
      "metadata": {
        "id": "J6qPP5oKzWId"
      }
    },
    {
      "cell_type": "markdown",
      "source": [
        "Duplicate values nahi hoti, aur order fix nahi hota."
      ],
      "metadata": {
        "id": "SoHQiW1RzYv5"
      }
    },
    {
      "cell_type": "code",
      "source": [
        "my_set = {1, 2, 3, 2, 1}\n",
        "# Output: {1, 2, 3}\n"
      ],
      "metadata": {
        "id": "LuU_ALWTzawP"
      },
      "execution_count": 15,
      "outputs": []
    },
    {
      "cell_type": "markdown",
      "source": [
        "🔷 5. Boolean (bool) – True ya False"
      ],
      "metadata": {
        "id": "iZNIIDbvze04"
      }
    },
    {
      "cell_type": "markdown",
      "source": [
        "Logic aur conditions ke liye use hota hai."
      ],
      "metadata": {
        "id": "CKp2EGEQzhU3"
      }
    },
    {
      "cell_type": "code",
      "source": [
        "is_valid = True\n"
      ],
      "metadata": {
        "id": "EeB09ebszjDc"
      },
      "execution_count": 16,
      "outputs": []
    },
    {
      "cell_type": "markdown",
      "source": [
        "🔘 Extra Info:"
      ],
      "metadata": {
        "id": "4m-jffnbznp1"
      }
    },
    {
      "cell_type": "markdown",
      "source": [
        ". All data types in Python are objects."
      ],
      "metadata": {
        "id": "RdUrjPG3zqh4"
      }
    },
    {
      "cell_type": "markdown",
      "source": [
        ". Tum type() function se kisi bhi variable ka data type check kar sakti ho:"
      ],
      "metadata": {
        "id": "7y7Q1FE0zuXq"
      }
    },
    {
      "cell_type": "code",
      "source": [
        "print(type(name))      # <class 'str'>\n",
        "print(type(fruits))    # <class 'list'>\n",
        "print(type(c))         # <class 'complex'>\n"
      ],
      "metadata": {
        "colab": {
          "base_uri": "https://localhost:8080/"
        },
        "id": "pl8HmGj5zxLc",
        "outputId": "4899a3ad-6bdd-4a92-ee04-872895368e4d"
      },
      "execution_count": 17,
      "outputs": [
        {
          "output_type": "stream",
          "name": "stdout",
          "text": [
            "<class 'str'>\n",
            "<class 'list'>\n",
            "<class 'complex'>\n"
          ]
        }
      ]
    }
  ]
}